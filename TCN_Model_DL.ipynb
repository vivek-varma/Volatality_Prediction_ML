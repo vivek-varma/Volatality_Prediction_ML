{
  "nbformat": 4,
  "nbformat_minor": 0,
  "metadata": {
    "colab": {
      "provenance": [],
      "gpuType": "T4",
      "authorship_tag": "ABX9TyNDg+/8WlXTej2OLaTuDL7r",
      "include_colab_link": true
    },
    "kernelspec": {
      "name": "python3",
      "display_name": "Python 3"
    },
    "language_info": {
      "name": "python"
    },
    "accelerator": "GPU"
  },
  "cells": [
    {
      "cell_type": "markdown",
      "metadata": {
        "id": "view-in-github",
        "colab_type": "text"
      },
      "source": [
        "<a href=\"https://colab.research.google.com/github/vivek-varma/Volatality_Prediction_ML/blob/main/TCN_Model_DL.ipynb\" target=\"_parent\"><img src=\"https://colab.research.google.com/assets/colab-badge.svg\" alt=\"Open In Colab\"/></a>"
      ]
    },
    {
      "cell_type": "code",
      "execution_count": 1,
      "metadata": {
        "id": "gWxqlSE_9Bzv"
      },
      "outputs": [],
      "source": [
        "!pip -q install torch torchvision torchaudio\n",
        "\n",
        "import os, math, json, numpy as np, pandas as pd\n",
        "import matplotlib.pyplot as plt\n",
        "from sklearn.preprocessing import StandardScaler\n",
        "from sklearn.metrics import balanced_accuracy_score, f1_score, classification_report, confusion_matrix, log_loss\n",
        "from sklearn.utils.class_weight import compute_class_weight\n",
        "from google.colab import drive\n",
        "import torch, torch.nn as nn\n",
        "from torch.utils.data import Dataset, DataLoader"
      ]
    },
    {
      "cell_type": "code",
      "source": [
        "SEQ_LEN     = 60        # lookback days\n",
        "EPOCHS      = 500\n",
        "BATCH_TRAIN = 128\n",
        "BATCH_EVAL  = 256\n",
        "PATIENCE    = 200\n",
        "SEED        = 1337\n",
        "\n",
        "DATA_DIR = \"/content/drive/MyDrive/Regime_pred/Data\"\n",
        "OUT_DIR  = \"/content/drive/MyDrive/Regime_pred/Models/Deep_TCN\"\n",
        "CSV_PATH = f\"{DATA_DIR}/REGIME_FEATURES_DAILY_LABELED.csv\""
      ],
      "metadata": {
        "id": "exNNu6hT9O3f"
      },
      "execution_count": 2,
      "outputs": []
    },
    {
      "cell_type": "code",
      "source": [
        "drive.mount('/content/drive', force_remount=False)\n",
        "os.makedirs(OUT_DIR, exist_ok=True)\n",
        "\n",
        "def set_seed(seed=SEED):\n",
        "    import random, numpy as np, torch\n",
        "    random.seed(seed); np.random.seed(seed); torch.manual_seed(seed)\n",
        "    torch.cuda.manual_seed_all(seed); torch.backends.cudnn.deterministic = True\n",
        "    torch.backends.cudnn.benchmark = False\n",
        "set_seed(SEED)\n",
        "\n",
        "device = torch.device(\"cuda\" if torch.cuda.is_available() else \"cpu\")\n",
        "print(\"Device:\", device)"
      ],
      "metadata": {
        "colab": {
          "base_uri": "https://localhost:8080/"
        },
        "id": "OGTOPyPV-AZE",
        "outputId": "b57c5baa-d410-44aa-d1bd-bede5e5ad9d7"
      },
      "execution_count": 3,
      "outputs": [
        {
          "output_type": "stream",
          "name": "stdout",
          "text": [
            "Drive already mounted at /content/drive; to attempt to forcibly remount, call drive.mount(\"/content/drive\", force_remount=True).\n",
            "Device: cuda\n"
          ]
        }
      ]
    },
    {
      "cell_type": "code",
      "source": [
        "df = pd.read_csv(CSV_PATH, parse_dates=[\"date\"]).sort_values(\"date\").reset_index(drop=True)\n",
        "print(\"Rows:\", len(df), \"| Date range:\", df.date.min().date(), \"→\", df.date.max().date())\n",
        "print(\"Class counts:\", df[\"regime_y\"].value_counts().to_dict())\n"
      ],
      "metadata": {
        "colab": {
          "base_uri": "https://localhost:8080/"
        },
        "id": "HST6gN0n-GJ6",
        "outputId": "77e866b4-12a5-432f-f1d7-689408baaef2"
      },
      "execution_count": 4,
      "outputs": [
        {
          "output_type": "stream",
          "name": "stdout",
          "text": [
            "Rows: 3478 | Date range: 2018-01-08 → 2024-12-31\n",
            "Class counts: {2: 1182, 0: 1148, 1: 1148}\n"
          ]
        }
      ]
    },
    {
      "cell_type": "code",
      "source": [
        "drop_cols = [\"date\", \"regime_y\", \"RV_t1\"]\n",
        "X = df.drop(columns=[c for c in drop_cols if c in df.columns]).copy()\n",
        "y = df[\"regime_y\"].astype(int).values\n"
      ],
      "metadata": {
        "id": "xahI6CZB-UYM"
      },
      "execution_count": 5,
      "outputs": []
    },
    {
      "cell_type": "code",
      "source": [
        "obj_cols = X.select_dtypes(include=[\"object\"]).columns.tolist()\n",
        "for c in obj_cols:\n",
        "    X[c] = X[c].astype(\"category\").cat.codes.replace(-1, np.nan)\n",
        "\n",
        "# Fill small gaps safely\n",
        "X = X.fillna(method=\"ffill\").fillna(method=\"bfill\")\n",
        "feature_names = X.columns.tolist()\n",
        "X = X.values.astype(np.float32)"
      ],
      "metadata": {
        "colab": {
          "base_uri": "https://localhost:8080/"
        },
        "id": "_5LuCPCv-Y1y",
        "outputId": "153bd0a8-1bf8-4f42-8914-bd9ce7e867dd"
      },
      "execution_count": 6,
      "outputs": [
        {
          "output_type": "stream",
          "name": "stderr",
          "text": [
            "/tmp/ipython-input-529496445.py:6: FutureWarning: DataFrame.fillna with 'method' is deprecated and will raise in a future version. Use obj.ffill() or obj.bfill() instead.\n",
            "  X = X.fillna(method=\"ffill\").fillna(method=\"bfill\")\n"
          ]
        }
      ]
    },
    {
      "cell_type": "code",
      "source": [
        "n = len(df)\n",
        "n_train = int(math.floor(n * 0.60))\n",
        "n_val   = int(math.floor(n * 0.20))\n",
        "idx_train = np.arange(0, n_train)\n",
        "idx_val   = np.arange(n_train, n_train + n_val)\n",
        "idx_test  = np.arange(n_train + n_val, n)\n"
      ],
      "metadata": {
        "id": "PUqpmD_s-cM8"
      },
      "execution_count": 7,
      "outputs": []
    },
    {
      "cell_type": "code",
      "source": [
        " # lookback days\n",
        "\n",
        "def make_sequences(Xa, ya, idx):\n",
        "    xs, ys, keep_dates = [], [], []\n",
        "    for i in idx:\n",
        "        if i - SEQ_LEN + 1 < 0:\n",
        "            continue\n",
        "        xs.append(Xa[i-SEQ_LEN+1:i+1, :])  # [SEQ_LEN, n_feat]\n",
        "        ys.append(ya[i])\n",
        "        keep_dates.append(df.iloc[i][\"date\"])\n",
        "    return np.stack(xs), np.array(ys), pd.to_datetime(keep_dates)\n",
        "\n",
        "# Standardize using TRAIN ONLY\n",
        "std_scaler = StandardScaler()\n",
        "std_scaler.fit(X[idx_train])\n",
        "Xz = std_scaler.transform(X).astype(np.float32)\n",
        "\n",
        "Xtr_seq, ytr, dates_tr = make_sequences(Xz, y, idx_train)\n",
        "Xva_seq, yva, dates_va = make_sequences(Xz, y, idx_val)\n",
        "Xte_seq, yte, dates_te = make_sequences(Xz, y, idx_test)\n",
        "\n",
        "print(\"Sequences:\", \"Train\", Xtr_seq.shape, \"| Val\", Xva_seq.shape, \"| Test\", Xte_seq.shape)"
      ],
      "metadata": {
        "colab": {
          "base_uri": "https://localhost:8080/"
        },
        "id": "AaYJdh_zEgyc",
        "outputId": "628d14fd-efa0-485d-a1ff-44bb9ba0e932"
      },
      "execution_count": 8,
      "outputs": [
        {
          "output_type": "stream",
          "name": "stdout",
          "text": [
            "Sequences: Train (2027, 60, 22) | Val (695, 60, 22) | Test (697, 60, 22)\n"
          ]
        }
      ]
    },
    {
      "cell_type": "code",
      "source": [
        "print(\"Sequences -> Train:\", Xtr_seq.shape, \"| Val:\", Xva_seq.shape, \"| Test:\", Xte_seq.shape)"
      ],
      "metadata": {
        "colab": {
          "base_uri": "https://localhost:8080/"
        },
        "id": "z0S9i5kC-w7k",
        "outputId": "128c6d45-ac16-4383-d372-bef76c50c590"
      },
      "execution_count": 9,
      "outputs": [
        {
          "output_type": "stream",
          "name": "stdout",
          "text": [
            "Sequences -> Train: (2027, 60, 22) | Val: (695, 60, 22) | Test: (697, 60, 22)\n"
          ]
        }
      ]
    },
    {
      "cell_type": "code",
      "source": [
        "class SeqDS(Dataset):\n",
        "    def __init__(self, Xseq, y):\n",
        "        # Convert to [N, C, T] for Conv1d (channels-first)\n",
        "        self.X = torch.from_numpy(Xseq).permute(0, 2, 1).contiguous()\n",
        "        self.y = torch.from_numpy(y).long()\n",
        "    def __len__(self): return len(self.y)\n",
        "    def __getitem__(self, i): return self.X[i], self.y[i]\n",
        "\n",
        "train_ds = SeqDS(Xtr_seq, ytr)\n",
        "val_ds   = SeqDS(Xva_seq, yva)\n",
        "test_ds  = SeqDS(Xte_seq, yte)\n",
        "\n",
        "BATCH = 64\n",
        "train_loader = DataLoader(train_ds, batch_size=BATCH, shuffle=True, drop_last=False, pin_memory=True)\n",
        "val_loader   = DataLoader(val_ds,   batch_size=128, shuffle=False, pin_memory=True)\n",
        "test_loader  = DataLoader(test_ds,  batch_size=128, shuffle=False, pin_memory=True)\n"
      ],
      "metadata": {
        "id": "EZe07do1Eorb"
      },
      "execution_count": 10,
      "outputs": []
    },
    {
      "cell_type": "code",
      "source": [
        "class Chomp1d(nn.Module):\n",
        "    def __init__(self, chomp_size): super().__init__(); self.chomp_size = chomp_size\n",
        "    def forward(self, x): return x[:, :, :-self.chomp_size].contiguous()\n",
        "\n",
        "class TemporalBlock(nn.Module):\n",
        "    def __init__(self, in_ch, out_ch, k, dilation, padding, dropout=0.1):\n",
        "        super().__init__()\n",
        "        self.conv1 = nn.Conv1d(in_ch, out_ch, k, padding=padding, dilation=dilation)\n",
        "        self.chomp1 = Chomp1d(padding)\n",
        "        self.relu1 = nn.ReLU()\n",
        "        self.drop1 = nn.Dropout(dropout)\n",
        "\n",
        "        self.conv2 = nn.Conv1d(out_ch, out_ch, k, padding=padding, dilation=dilation)\n",
        "        self.chomp2 = Chomp1d(padding)\n",
        "        self.relu2 = nn.ReLU()\n",
        "        self.drop2 = nn.Dropout(dropout)\n",
        "\n",
        "        self.downsample = nn.Conv1d(in_ch, out_ch, 1) if in_ch != out_ch else None\n",
        "        self.final_relu = nn.ReLU()\n",
        "\n",
        "    def forward(self, x):\n",
        "        y = self.conv1(x); y = self.chomp1(y); y = self.relu1(y); y = self.drop1(y)\n",
        "        y = self.conv2(y); y = self.chomp2(y); y = self.relu2(y); y = self.drop2(y)\n",
        "        res = x if self.downsample is None else self.downsample(x)\n",
        "        return self.final_relu(y + res)\n",
        "\n",
        "class TCN(nn.Module):\n",
        "    def __init__(self, in_ch, num_classes, channels=(64,64,64), k=3, dropout=0.1):\n",
        "        super().__init__()\n",
        "        layers, ch_in = [], in_ch\n",
        "        for i, ch_out in enumerate(channels):\n",
        "            dilation = 2 ** i\n",
        "            padding = (k - 1) * dilation\n",
        "            layers.append(TemporalBlock(ch_in, ch_out, k, dilation, padding, dropout))\n",
        "            ch_in = ch_out\n",
        "        self.backbone = nn.Sequential(*layers)\n",
        "        self.head = nn.Sequential(\n",
        "            nn.AdaptiveAvgPool1d(1),\n",
        "            nn.Flatten(),\n",
        "            nn.Linear(ch_in, 64),\n",
        "            nn.ReLU(),\n",
        "            nn.Dropout(0.2),\n",
        "            nn.Linear(64, num_classes),\n",
        "        )\n",
        "\n",
        "    def forward(self, x):\n",
        "        z = self.backbone(x)\n",
        "        return self.head(z)"
      ],
      "metadata": {
        "id": "93SR176j-94P"
      },
      "execution_count": 11,
      "outputs": []
    },
    {
      "cell_type": "code",
      "source": [
        "device = torch.device(\"cuda\" if torch.cuda.is_available() else \"cpu\")\n",
        "print(\"Device:\", device)\n",
        "\n",
        "num_classes = int(np.unique(y).size)\n",
        "model = TCN(in_ch=Xtr_seq.shape[2], num_classes=num_classes, channels=(64,64,64), k=3, dropout=0.10).to(device)"
      ],
      "metadata": {
        "colab": {
          "base_uri": "https://localhost:8080/"
        },
        "id": "30fKKOlUCGW2",
        "outputId": "d40f2b5d-9f71-461b-a701-79813fab0623"
      },
      "execution_count": 12,
      "outputs": [
        {
          "output_type": "stream",
          "name": "stdout",
          "text": [
            "Device: cuda\n"
          ]
        }
      ]
    },
    {
      "cell_type": "code",
      "source": [
        "classes_sorted = np.sort(np.unique(ytr))\n",
        "cls_weights = compute_class_weight(class_weight=\"balanced\", classes=classes_sorted, y=ytr)\n",
        "# Map weights into a dense tensor indexed by class id (0..num_classes-1)\n",
        "w_vec = np.zeros(num_classes, dtype=np.float32)\n",
        "for i, c in enumerate(classes_sorted): w_vec[int(c)] = cls_weights[i]\n",
        "criterion = nn.CrossEntropyLoss(weight=torch.tensor(w_vec, dtype=torch.float32, device=device))\n",
        "\n",
        "optimizer = torch.optim.AdamW(model.parameters(), lr=3e-3, weight_decay=1e-4)\n",
        "sched = torch.optim.lr_scheduler.CosineAnnealingLR(optimizer, T_max=EPOCHS)\n",
        "\n",
        "# Mixed precision for GPU speed\n",
        "amp_scaler = torch.cuda.amp.GradScaler(enabled=torch.cuda.is_available())"
      ],
      "metadata": {
        "colab": {
          "base_uri": "https://localhost:8080/"
        },
        "id": "Hxg0Exp2CHZ9",
        "outputId": "053e9a87-7b69-4ba6-b0ac-18fb8bfd6cb9"
      },
      "execution_count": 13,
      "outputs": [
        {
          "output_type": "stream",
          "name": "stderr",
          "text": [
            "/tmp/ipython-input-325629885.py:12: FutureWarning: `torch.cuda.amp.GradScaler(args...)` is deprecated. Please use `torch.amp.GradScaler('cuda', args...)` instead.\n",
            "  amp_scaler = torch.cuda.amp.GradScaler(enabled=torch.cuda.is_available())\n"
          ]
        }
      ]
    },
    {
      "cell_type": "code",
      "source": [
        "def eval_loader(loader):\n",
        "    model.eval()\n",
        "    ys, ps = [], []\n",
        "    with torch.no_grad():\n",
        "        for xb, yb in loader:\n",
        "            xb, yb = xb.to(device, non_blocking=True), yb.to(device, non_blocking=True)\n",
        "            with torch.cuda.amp.autocast(enabled=torch.cuda.is_available()):\n",
        "                logits = model(xb)\n",
        "                prob = torch.softmax(logits, dim=1)\n",
        "            ys.append(yb.cpu().numpy())\n",
        "            ps.append(prob.cpu().numpy())\n",
        "    y_true = np.concatenate(ys)\n",
        "    p = np.concatenate(ps)\n",
        "    y_pred = p.argmax(1)\n",
        "    return y_true, y_pred, p\n",
        "\n",
        "best_val = np.inf\n",
        "patience = 20\n",
        "wait = 0\n",
        "best_path = os.path.join(OUT_DIR, \"tcn_best.pt\")"
      ],
      "metadata": {
        "id": "ps-xmWUzCg1E"
      },
      "execution_count": 14,
      "outputs": []
    },
    {
      "cell_type": "code",
      "source": [
        "def eval_loader(loader):\n",
        "    model.eval()\n",
        "    ys, ps = [], []\n",
        "    with torch.no_grad():\n",
        "        for xb, yb in loader:\n",
        "            xb, yb = xb.to(device, non_blocking=True), yb.to(device, non_blocking=True)\n",
        "            # New autocast API\n",
        "            with torch.amp.autocast(\"cuda\", enabled=torch.cuda.is_available()):\n",
        "                logits = model(xb)\n",
        "                prob = torch.softmax(logits, dim=1)\n",
        "            ys.append(yb.cpu().numpy())\n",
        "            ps.append(prob.cpu().numpy())\n",
        "    y_true = np.concatenate(ys); p = np.concatenate(ps)\n",
        "    return y_true, p.argmax(1), p\n",
        "\n",
        "best_val = np.inf\n",
        "wait = 0\n",
        "best_path = os.path.join(OUT_DIR, \"tcn_best.pt\")\n",
        "\n",
        "for epoch in range(1, EPOCHS+1):\n",
        "    model.train()\n",
        "    running = 0.0\n",
        "    for xb, yb in train_loader:\n",
        "        xb, yb = xb.to(device, non_blocking=True), yb.to(device, non_blocking=True)\n",
        "        optimizer.zero_grad(set_to_none=True)\n",
        "        with torch.amp.autocast(\"cuda\", enabled=torch.cuda.is_available()):\n",
        "            logits = model(xb)\n",
        "            loss = criterion(logits, yb)\n",
        "        amp_scaler.scale(loss).backward()\n",
        "        # clip grads for stability\n",
        "        amp_scaler.unscale_(optimizer)\n",
        "        nn.utils.clip_grad_norm_(model.parameters(), max_norm=1.0)\n",
        "        amp_scaler.step(optimizer)\n",
        "        amp_scaler.update()\n",
        "        running += loss.item() * xb.size(0)\n",
        "\n",
        "    train_loss = running / len(train_ds)\n",
        "    sched.step()\n",
        "\n",
        "    yv_true, yv_pred, yv_proba = eval_loader(val_loader)\n",
        "    val_loss = log_loss(yv_true, yv_proba, labels=np.arange(num_classes))\n",
        "\n",
        "    if val_loss < best_val:\n",
        "        best_val, wait = val_loss, 0\n",
        "\n",
        "        # Save weights\n",
        "        torch.save({\"model\": model.state_dict()}, best_path)\n",
        "\n",
        "        # Save the *feature* scaler stats used earlier\n",
        "        with open(os.path.join(OUT_DIR, \"tcn_scaler.json\"), \"w\") as f:\n",
        "            json.dump({\n",
        "                \"mean\": std_scaler.mean_.tolist(),\n",
        "                \"scale\": std_scaler.scale_.tolist(),\n",
        "                \"feature_names\": feature_names,\n",
        "                \"seq_len\": SEQ_LEN\n",
        "            }, f, indent=2)\n",
        "    else:\n",
        "        wait += 1\n",
        "\n",
        "    print(f\"Epoch {epoch:02d} | train_loss {train_loss:.4f} | val_logloss {val_loss:.4f} | best {best_val:.4f} | wait {wait}/{PATIENCE}\")\n",
        "    if wait >= PATIENCE:\n",
        "        print(\"Early stopping.\")\n",
        "        break\n",
        "\n",
        "print(\"Best val logloss:\", round(best_val, 4))"
      ],
      "metadata": {
        "colab": {
          "base_uri": "https://localhost:8080/"
        },
        "id": "utKpp_s5C3aW",
        "outputId": "1f6e52da-7a02-4fbb-8dcf-38256925e27d"
      },
      "execution_count": 15,
      "outputs": [
        {
          "output_type": "stream",
          "name": "stdout",
          "text": [
            "Epoch 01 | train_loss 0.9722 | val_logloss 0.9441 | best 0.9441 | wait 0/200\n",
            "Epoch 02 | train_loss 0.9104 | val_logloss 1.0309 | best 0.9441 | wait 1/200\n",
            "Epoch 03 | train_loss 0.8774 | val_logloss 1.2436 | best 0.9441 | wait 2/200\n",
            "Epoch 04 | train_loss 0.8448 | val_logloss 1.3143 | best 0.9441 | wait 3/200\n",
            "Epoch 05 | train_loss 0.7985 | val_logloss 0.9581 | best 0.9441 | wait 4/200\n",
            "Epoch 06 | train_loss 0.7582 | val_logloss 1.1621 | best 0.9441 | wait 5/200\n",
            "Epoch 07 | train_loss 0.7431 | val_logloss 1.0162 | best 0.9441 | wait 6/200\n",
            "Epoch 08 | train_loss 0.7327 | val_logloss 0.9666 | best 0.9441 | wait 7/200\n",
            "Epoch 09 | train_loss 0.7184 | val_logloss 1.0141 | best 0.9441 | wait 8/200\n",
            "Epoch 10 | train_loss 0.7351 | val_logloss 1.1022 | best 0.9441 | wait 9/200\n",
            "Epoch 11 | train_loss 0.7033 | val_logloss 1.0253 | best 0.9441 | wait 10/200\n",
            "Epoch 12 | train_loss 0.7142 | val_logloss 1.3730 | best 0.9441 | wait 11/200\n",
            "Epoch 13 | train_loss 0.6846 | val_logloss 1.1231 | best 0.9441 | wait 12/200\n",
            "Epoch 14 | train_loss 0.6924 | val_logloss 1.3125 | best 0.9441 | wait 13/200\n",
            "Epoch 15 | train_loss 0.6776 | val_logloss 1.2521 | best 0.9441 | wait 14/200\n",
            "Epoch 16 | train_loss 0.6864 | val_logloss 1.3134 | best 0.9441 | wait 15/200\n",
            "Epoch 17 | train_loss 0.7015 | val_logloss 1.6210 | best 0.9441 | wait 16/200\n",
            "Epoch 18 | train_loss 0.6690 | val_logloss 1.4205 | best 0.9441 | wait 17/200\n",
            "Epoch 19 | train_loss 0.6622 | val_logloss 1.3656 | best 0.9441 | wait 18/200\n",
            "Epoch 20 | train_loss 0.6787 | val_logloss 1.3278 | best 0.9441 | wait 19/200\n",
            "Epoch 21 | train_loss 0.6895 | val_logloss 0.9938 | best 0.9441 | wait 20/200\n",
            "Epoch 22 | train_loss 0.6651 | val_logloss 1.5354 | best 0.9441 | wait 21/200\n",
            "Epoch 23 | train_loss 0.6496 | val_logloss 1.2433 | best 0.9441 | wait 22/200\n",
            "Epoch 24 | train_loss 0.6566 | val_logloss 1.9990 | best 0.9441 | wait 23/200\n",
            "Epoch 25 | train_loss 0.6778 | val_logloss 1.3968 | best 0.9441 | wait 24/200\n",
            "Epoch 26 | train_loss 0.6373 | val_logloss 1.8995 | best 0.9441 | wait 25/200\n",
            "Epoch 27 | train_loss 0.6431 | val_logloss 1.2113 | best 0.9441 | wait 26/200\n",
            "Epoch 28 | train_loss 0.6188 | val_logloss 1.0855 | best 0.9441 | wait 27/200\n",
            "Epoch 29 | train_loss 0.6113 | val_logloss 1.6442 | best 0.9441 | wait 28/200\n",
            "Epoch 30 | train_loss 0.6000 | val_logloss 1.0735 | best 0.9441 | wait 29/200\n",
            "Epoch 31 | train_loss 0.6148 | val_logloss 1.8142 | best 0.9441 | wait 30/200\n",
            "Epoch 32 | train_loss 0.6101 | val_logloss 1.2619 | best 0.9441 | wait 31/200\n",
            "Epoch 33 | train_loss 0.6029 | val_logloss 0.9909 | best 0.9441 | wait 32/200\n",
            "Epoch 34 | train_loss 0.6014 | val_logloss 0.9019 | best 0.9019 | wait 0/200\n",
            "Epoch 35 | train_loss 0.5909 | val_logloss 0.9650 | best 0.9019 | wait 1/200\n",
            "Epoch 36 | train_loss 0.6002 | val_logloss 1.1350 | best 0.9019 | wait 2/200\n",
            "Epoch 37 | train_loss 0.5839 | val_logloss 1.0851 | best 0.9019 | wait 3/200\n",
            "Epoch 38 | train_loss 0.5864 | val_logloss 1.6301 | best 0.9019 | wait 4/200\n",
            "Epoch 39 | train_loss 0.5783 | val_logloss 0.8596 | best 0.8596 | wait 0/200\n",
            "Epoch 40 | train_loss 0.5837 | val_logloss 1.8404 | best 0.8596 | wait 1/200\n",
            "Epoch 41 | train_loss 0.5888 | val_logloss 1.4568 | best 0.8596 | wait 2/200\n",
            "Epoch 42 | train_loss 0.5506 | val_logloss 1.2565 | best 0.8596 | wait 3/200\n",
            "Epoch 43 | train_loss 0.5692 | val_logloss 1.4325 | best 0.8596 | wait 4/200\n",
            "Epoch 44 | train_loss 0.5348 | val_logloss 1.5594 | best 0.8596 | wait 5/200\n",
            "Epoch 45 | train_loss 0.5614 | val_logloss 1.0555 | best 0.8596 | wait 6/200\n",
            "Epoch 46 | train_loss 0.5355 | val_logloss 1.1659 | best 0.8596 | wait 7/200\n",
            "Epoch 47 | train_loss 0.5374 | val_logloss 1.5182 | best 0.8596 | wait 8/200\n",
            "Epoch 48 | train_loss 0.5713 | val_logloss 1.4939 | best 0.8596 | wait 9/200\n",
            "Epoch 49 | train_loss 0.5537 | val_logloss 1.6132 | best 0.8596 | wait 10/200\n",
            "Epoch 50 | train_loss 0.5123 | val_logloss 1.1702 | best 0.8596 | wait 11/200\n",
            "Epoch 51 | train_loss 0.5134 | val_logloss 1.4701 | best 0.8596 | wait 12/200\n",
            "Epoch 52 | train_loss 0.5266 | val_logloss 1.1279 | best 0.8596 | wait 13/200\n",
            "Epoch 53 | train_loss 0.5193 | val_logloss 1.2133 | best 0.8596 | wait 14/200\n",
            "Epoch 54 | train_loss 0.4903 | val_logloss 1.2386 | best 0.8596 | wait 15/200\n",
            "Epoch 55 | train_loss 0.4837 | val_logloss 1.1225 | best 0.8596 | wait 16/200\n",
            "Epoch 56 | train_loss 0.4707 | val_logloss 1.3981 | best 0.8596 | wait 17/200\n",
            "Epoch 57 | train_loss 0.4868 | val_logloss 1.6491 | best 0.8596 | wait 18/200\n",
            "Epoch 58 | train_loss 0.4810 | val_logloss 1.2895 | best 0.8596 | wait 19/200\n",
            "Epoch 59 | train_loss 0.4800 | val_logloss 1.2812 | best 0.8596 | wait 20/200\n",
            "Epoch 60 | train_loss 0.4654 | val_logloss 1.3272 | best 0.8596 | wait 21/200\n",
            "Epoch 61 | train_loss 0.4638 | val_logloss 1.2246 | best 0.8596 | wait 22/200\n",
            "Epoch 62 | train_loss 0.4616 | val_logloss 1.7606 | best 0.8596 | wait 23/200\n",
            "Epoch 63 | train_loss 0.4671 | val_logloss 1.0278 | best 0.8596 | wait 24/200\n",
            "Epoch 64 | train_loss 0.4455 | val_logloss 1.6670 | best 0.8596 | wait 25/200\n",
            "Epoch 65 | train_loss 0.4242 | val_logloss 1.4933 | best 0.8596 | wait 26/200\n",
            "Epoch 66 | train_loss 0.4172 | val_logloss 1.5115 | best 0.8596 | wait 27/200\n",
            "Epoch 67 | train_loss 0.4109 | val_logloss 1.6480 | best 0.8596 | wait 28/200\n",
            "Epoch 68 | train_loss 0.4144 | val_logloss 1.4771 | best 0.8596 | wait 29/200\n",
            "Epoch 69 | train_loss 0.3884 | val_logloss 2.0744 | best 0.8596 | wait 30/200\n",
            "Epoch 70 | train_loss 0.4171 | val_logloss 1.6410 | best 0.8596 | wait 31/200\n",
            "Epoch 71 | train_loss 0.4150 | val_logloss 1.3645 | best 0.8596 | wait 32/200\n",
            "Epoch 72 | train_loss 0.4062 | val_logloss 1.9365 | best 0.8596 | wait 33/200\n",
            "Epoch 73 | train_loss 0.3948 | val_logloss 1.7812 | best 0.8596 | wait 34/200\n",
            "Epoch 74 | train_loss 0.3817 | val_logloss 1.8730 | best 0.8596 | wait 35/200\n",
            "Epoch 75 | train_loss 0.3606 | val_logloss 1.5928 | best 0.8596 | wait 36/200\n",
            "Epoch 76 | train_loss 0.3777 | val_logloss 1.7831 | best 0.8596 | wait 37/200\n",
            "Epoch 77 | train_loss 0.3840 | val_logloss 2.3651 | best 0.8596 | wait 38/200\n",
            "Epoch 78 | train_loss 0.3888 | val_logloss 2.6590 | best 0.8596 | wait 39/200\n",
            "Epoch 79 | train_loss 0.3634 | val_logloss 2.0079 | best 0.8596 | wait 40/200\n",
            "Epoch 80 | train_loss 0.3507 | val_logloss 1.8774 | best 0.8596 | wait 41/200\n",
            "Epoch 81 | train_loss 0.3599 | val_logloss 1.3026 | best 0.8596 | wait 42/200\n",
            "Epoch 82 | train_loss 0.3287 | val_logloss 1.7249 | best 0.8596 | wait 43/200\n",
            "Epoch 83 | train_loss 0.3327 | val_logloss 1.6328 | best 0.8596 | wait 44/200\n",
            "Epoch 84 | train_loss 0.3436 | val_logloss 1.5000 | best 0.8596 | wait 45/200\n",
            "Epoch 85 | train_loss 0.3343 | val_logloss 2.3682 | best 0.8596 | wait 46/200\n",
            "Epoch 86 | train_loss 0.3074 | val_logloss 1.8021 | best 0.8596 | wait 47/200\n",
            "Epoch 87 | train_loss 0.3492 | val_logloss 1.6017 | best 0.8596 | wait 48/200\n",
            "Epoch 88 | train_loss 0.3219 | val_logloss 2.3093 | best 0.8596 | wait 49/200\n",
            "Epoch 89 | train_loss 0.2973 | val_logloss 1.4946 | best 0.8596 | wait 50/200\n",
            "Epoch 90 | train_loss 0.3433 | val_logloss 2.3438 | best 0.8596 | wait 51/200\n",
            "Epoch 91 | train_loss 0.2938 | val_logloss 2.7134 | best 0.8596 | wait 52/200\n",
            "Epoch 92 | train_loss 0.3059 | val_logloss 1.8878 | best 0.8596 | wait 53/200\n",
            "Epoch 93 | train_loss 0.2895 | val_logloss 2.3660 | best 0.8596 | wait 54/200\n",
            "Epoch 94 | train_loss 0.2931 | val_logloss 2.4851 | best 0.8596 | wait 55/200\n",
            "Epoch 95 | train_loss 0.3036 | val_logloss 2.2678 | best 0.8596 | wait 56/200\n",
            "Epoch 96 | train_loss 0.2884 | val_logloss 2.4443 | best 0.8596 | wait 57/200\n",
            "Epoch 97 | train_loss 0.2811 | val_logloss 2.5399 | best 0.8596 | wait 58/200\n",
            "Epoch 98 | train_loss 0.2610 | val_logloss 1.6429 | best 0.8596 | wait 59/200\n",
            "Epoch 99 | train_loss 0.2916 | val_logloss 1.3505 | best 0.8596 | wait 60/200\n",
            "Epoch 100 | train_loss 0.2652 | val_logloss 2.0859 | best 0.8596 | wait 61/200\n",
            "Epoch 101 | train_loss 0.2636 | val_logloss 2.7003 | best 0.8596 | wait 62/200\n",
            "Epoch 102 | train_loss 0.2596 | val_logloss 1.9723 | best 0.8596 | wait 63/200\n",
            "Epoch 103 | train_loss 0.2381 | val_logloss 1.7278 | best 0.8596 | wait 64/200\n",
            "Epoch 104 | train_loss 0.2759 | val_logloss 2.1541 | best 0.8596 | wait 65/200\n",
            "Epoch 105 | train_loss 0.2590 | val_logloss 1.9256 | best 0.8596 | wait 66/200\n",
            "Epoch 106 | train_loss 0.2523 | val_logloss 2.1887 | best 0.8596 | wait 67/200\n",
            "Epoch 107 | train_loss 0.2625 | val_logloss 2.0689 | best 0.8596 | wait 68/200\n",
            "Epoch 108 | train_loss 0.2195 | val_logloss 2.5495 | best 0.8596 | wait 69/200\n",
            "Epoch 109 | train_loss 0.2531 | val_logloss 3.5561 | best 0.8596 | wait 70/200\n",
            "Epoch 110 | train_loss 0.2620 | val_logloss 2.5217 | best 0.8596 | wait 71/200\n",
            "Epoch 111 | train_loss 0.2314 | val_logloss 2.4617 | best 0.8596 | wait 72/200\n",
            "Epoch 112 | train_loss 0.2063 | val_logloss 2.2811 | best 0.8596 | wait 73/200\n",
            "Epoch 113 | train_loss 0.2214 | val_logloss 2.6528 | best 0.8596 | wait 74/200\n",
            "Epoch 114 | train_loss 0.2522 | val_logloss 2.0311 | best 0.8596 | wait 75/200\n",
            "Epoch 115 | train_loss 0.2417 | val_logloss 2.6882 | best 0.8596 | wait 76/200\n",
            "Epoch 116 | train_loss 0.2118 | val_logloss 3.5363 | best 0.8596 | wait 77/200\n",
            "Epoch 117 | train_loss 0.2251 | val_logloss 3.3604 | best 0.8596 | wait 78/200\n",
            "Epoch 118 | train_loss 0.2098 | val_logloss 2.9500 | best 0.8596 | wait 79/200\n",
            "Epoch 119 | train_loss 0.2170 | val_logloss 2.7204 | best 0.8596 | wait 80/200\n",
            "Epoch 120 | train_loss 0.2112 | val_logloss 3.3352 | best 0.8596 | wait 81/200\n",
            "Epoch 121 | train_loss 0.2462 | val_logloss 3.3401 | best 0.8596 | wait 82/200\n",
            "Epoch 122 | train_loss 0.2326 | val_logloss 2.9269 | best 0.8596 | wait 83/200\n",
            "Epoch 123 | train_loss 0.1940 | val_logloss 3.1859 | best 0.8596 | wait 84/200\n",
            "Epoch 124 | train_loss 0.2458 | val_logloss 3.2753 | best 0.8596 | wait 85/200\n",
            "Epoch 125 | train_loss 0.1825 | val_logloss 2.8414 | best 0.8596 | wait 86/200\n",
            "Epoch 126 | train_loss 0.2215 | val_logloss 3.2517 | best 0.8596 | wait 87/200\n",
            "Epoch 127 | train_loss 0.1899 | val_logloss 2.6567 | best 0.8596 | wait 88/200\n",
            "Epoch 128 | train_loss 0.2153 | val_logloss 2.9894 | best 0.8596 | wait 89/200\n",
            "Epoch 129 | train_loss 0.2104 | val_logloss 2.6587 | best 0.8596 | wait 90/200\n",
            "Epoch 130 | train_loss 0.1935 | val_logloss 3.0096 | best 0.8596 | wait 91/200\n",
            "Epoch 131 | train_loss 0.1853 | val_logloss 2.2543 | best 0.8596 | wait 92/200\n",
            "Epoch 132 | train_loss 0.1861 | val_logloss 3.5236 | best 0.8596 | wait 93/200\n",
            "Epoch 133 | train_loss 0.1844 | val_logloss 2.9596 | best 0.8596 | wait 94/200\n",
            "Epoch 134 | train_loss 0.1980 | val_logloss 3.2326 | best 0.8596 | wait 95/200\n",
            "Epoch 135 | train_loss 0.1824 | val_logloss 3.1025 | best 0.8596 | wait 96/200\n",
            "Epoch 136 | train_loss 0.1981 | val_logloss 3.8526 | best 0.8596 | wait 97/200\n",
            "Epoch 137 | train_loss 0.1793 | val_logloss 3.7254 | best 0.8596 | wait 98/200\n",
            "Epoch 138 | train_loss 0.1858 | val_logloss 3.2458 | best 0.8596 | wait 99/200\n",
            "Epoch 139 | train_loss 0.1787 | val_logloss 3.7071 | best 0.8596 | wait 100/200\n",
            "Epoch 140 | train_loss 0.1839 | val_logloss 3.7563 | best 0.8596 | wait 101/200\n",
            "Epoch 141 | train_loss 0.1872 | val_logloss 3.7067 | best 0.8596 | wait 102/200\n",
            "Epoch 142 | train_loss 0.1619 | val_logloss 3.4833 | best 0.8596 | wait 103/200\n",
            "Epoch 143 | train_loss 0.1785 | val_logloss 4.0405 | best 0.8596 | wait 104/200\n",
            "Epoch 144 | train_loss 0.1799 | val_logloss 2.8966 | best 0.8596 | wait 105/200\n",
            "Epoch 145 | train_loss 0.1753 | val_logloss 3.5377 | best 0.8596 | wait 106/200\n",
            "Epoch 146 | train_loss 0.1551 | val_logloss 4.1519 | best 0.8596 | wait 107/200\n",
            "Epoch 147 | train_loss 0.1624 | val_logloss 3.9059 | best 0.8596 | wait 108/200\n",
            "Epoch 148 | train_loss 0.1762 | val_logloss 3.2656 | best 0.8596 | wait 109/200\n",
            "Epoch 149 | train_loss 0.1620 | val_logloss 3.5334 | best 0.8596 | wait 110/200\n",
            "Epoch 150 | train_loss 0.1688 | val_logloss 4.7034 | best 0.8596 | wait 111/200\n",
            "Epoch 151 | train_loss 0.1565 | val_logloss 3.5150 | best 0.8596 | wait 112/200\n",
            "Epoch 152 | train_loss 0.2217 | val_logloss 3.2059 | best 0.8596 | wait 113/200\n",
            "Epoch 153 | train_loss 0.1607 | val_logloss 3.4796 | best 0.8596 | wait 114/200\n",
            "Epoch 154 | train_loss 0.1499 | val_logloss 3.9160 | best 0.8596 | wait 115/200\n",
            "Epoch 155 | train_loss 0.1423 | val_logloss 3.9305 | best 0.8596 | wait 116/200\n",
            "Epoch 156 | train_loss 0.1508 | val_logloss 3.3303 | best 0.8596 | wait 117/200\n",
            "Epoch 157 | train_loss 0.1278 | val_logloss 3.6463 | best 0.8596 | wait 118/200\n",
            "Epoch 158 | train_loss 0.1460 | val_logloss 3.9693 | best 0.8596 | wait 119/200\n",
            "Epoch 159 | train_loss 0.1578 | val_logloss 3.5466 | best 0.8596 | wait 120/200\n",
            "Epoch 160 | train_loss 0.1457 | val_logloss 3.7343 | best 0.8596 | wait 121/200\n",
            "Epoch 161 | train_loss 0.1598 | val_logloss 2.9236 | best 0.8596 | wait 122/200\n",
            "Epoch 162 | train_loss 0.1477 | val_logloss 4.2771 | best 0.8596 | wait 123/200\n",
            "Epoch 163 | train_loss 0.1414 | val_logloss 4.3339 | best 0.8596 | wait 124/200\n",
            "Epoch 164 | train_loss 0.1241 | val_logloss 4.4423 | best 0.8596 | wait 125/200\n",
            "Epoch 165 | train_loss 0.1426 | val_logloss 4.1875 | best 0.8596 | wait 126/200\n",
            "Epoch 166 | train_loss 0.1393 | val_logloss 3.5624 | best 0.8596 | wait 127/200\n",
            "Epoch 167 | train_loss 0.1436 | val_logloss 2.6415 | best 0.8596 | wait 128/200\n",
            "Epoch 168 | train_loss 0.1253 | val_logloss 3.2383 | best 0.8596 | wait 129/200\n",
            "Epoch 169 | train_loss 0.1156 | val_logloss 4.3752 | best 0.8596 | wait 130/200\n",
            "Epoch 170 | train_loss 0.1333 | val_logloss 4.3405 | best 0.8596 | wait 131/200\n",
            "Epoch 171 | train_loss 0.1358 | val_logloss 4.3821 | best 0.8596 | wait 132/200\n",
            "Epoch 172 | train_loss 0.1480 | val_logloss 3.9692 | best 0.8596 | wait 133/200\n",
            "Epoch 173 | train_loss 0.1313 | val_logloss 5.1065 | best 0.8596 | wait 134/200\n",
            "Epoch 174 | train_loss 0.1270 | val_logloss 3.9536 | best 0.8596 | wait 135/200\n",
            "Epoch 175 | train_loss 0.1371 | val_logloss 4.3049 | best 0.8596 | wait 136/200\n",
            "Epoch 176 | train_loss 0.1307 | val_logloss 4.5033 | best 0.8596 | wait 137/200\n",
            "Epoch 177 | train_loss 0.1356 | val_logloss 4.2819 | best 0.8596 | wait 138/200\n",
            "Epoch 178 | train_loss 0.1218 | val_logloss 4.1368 | best 0.8596 | wait 139/200\n",
            "Epoch 179 | train_loss 0.1322 | val_logloss 4.4488 | best 0.8596 | wait 140/200\n",
            "Epoch 180 | train_loss 0.1430 | val_logloss 5.9029 | best 0.8596 | wait 141/200\n",
            "Epoch 181 | train_loss 0.1348 | val_logloss 4.9721 | best 0.8596 | wait 142/200\n",
            "Epoch 182 | train_loss 0.1169 | val_logloss 5.8364 | best 0.8596 | wait 143/200\n",
            "Epoch 183 | train_loss 0.1323 | val_logloss 4.5616 | best 0.8596 | wait 144/200\n",
            "Epoch 184 | train_loss 0.1145 | val_logloss 4.3863 | best 0.8596 | wait 145/200\n",
            "Epoch 185 | train_loss 0.1240 | val_logloss 3.6240 | best 0.8596 | wait 146/200\n",
            "Epoch 186 | train_loss 0.1153 | val_logloss 4.8724 | best 0.8596 | wait 147/200\n",
            "Epoch 187 | train_loss 0.1118 | val_logloss 4.4452 | best 0.8596 | wait 148/200\n",
            "Epoch 188 | train_loss 0.1207 | val_logloss 4.2450 | best 0.8596 | wait 149/200\n",
            "Epoch 189 | train_loss 0.1116 | val_logloss 3.8261 | best 0.8596 | wait 150/200\n",
            "Epoch 190 | train_loss 0.1268 | val_logloss 4.0789 | best 0.8596 | wait 151/200\n",
            "Epoch 191 | train_loss 0.1047 | val_logloss 5.1006 | best 0.8596 | wait 152/200\n",
            "Epoch 192 | train_loss 0.1013 | val_logloss 4.5023 | best 0.8596 | wait 153/200\n",
            "Epoch 193 | train_loss 0.1094 | val_logloss 4.0051 | best 0.8596 | wait 154/200\n",
            "Epoch 194 | train_loss 0.1172 | val_logloss 5.0235 | best 0.8596 | wait 155/200\n",
            "Epoch 195 | train_loss 0.1155 | val_logloss 4.3039 | best 0.8596 | wait 156/200\n",
            "Epoch 196 | train_loss 0.1084 | val_logloss 4.8554 | best 0.8596 | wait 157/200\n",
            "Epoch 197 | train_loss 0.1005 | val_logloss 4.6526 | best 0.8596 | wait 158/200\n",
            "Epoch 198 | train_loss 0.1268 | val_logloss 3.8848 | best 0.8596 | wait 159/200\n",
            "Epoch 199 | train_loss 0.1278 | val_logloss 4.0197 | best 0.8596 | wait 160/200\n",
            "Epoch 200 | train_loss 0.1037 | val_logloss 4.4208 | best 0.8596 | wait 161/200\n",
            "Epoch 201 | train_loss 0.0973 | val_logloss 4.7520 | best 0.8596 | wait 162/200\n",
            "Epoch 202 | train_loss 0.0886 | val_logloss 5.5126 | best 0.8596 | wait 163/200\n",
            "Epoch 203 | train_loss 0.0910 | val_logloss 4.8445 | best 0.8596 | wait 164/200\n",
            "Epoch 204 | train_loss 0.0814 | val_logloss 4.1780 | best 0.8596 | wait 165/200\n",
            "Epoch 205 | train_loss 0.0934 | val_logloss 4.1573 | best 0.8596 | wait 166/200\n",
            "Epoch 206 | train_loss 0.0935 | val_logloss 4.5037 | best 0.8596 | wait 167/200\n",
            "Epoch 207 | train_loss 0.0937 | val_logloss 4.5417 | best 0.8596 | wait 168/200\n",
            "Epoch 208 | train_loss 0.0960 | val_logloss 4.4688 | best 0.8596 | wait 169/200\n",
            "Epoch 209 | train_loss 0.1051 | val_logloss 4.5342 | best 0.8596 | wait 170/200\n",
            "Epoch 210 | train_loss 0.0959 | val_logloss 4.6378 | best 0.8596 | wait 171/200\n",
            "Epoch 211 | train_loss 0.0972 | val_logloss 4.8732 | best 0.8596 | wait 172/200\n",
            "Epoch 212 | train_loss 0.0983 | val_logloss 4.3412 | best 0.8596 | wait 173/200\n",
            "Epoch 213 | train_loss 0.1246 | val_logloss 5.2425 | best 0.8596 | wait 174/200\n",
            "Epoch 214 | train_loss 0.0890 | val_logloss 5.6854 | best 0.8596 | wait 175/200\n",
            "Epoch 215 | train_loss 0.0987 | val_logloss 4.0098 | best 0.8596 | wait 176/200\n",
            "Epoch 216 | train_loss 0.1268 | val_logloss 3.9051 | best 0.8596 | wait 177/200\n",
            "Epoch 217 | train_loss 0.0895 | val_logloss 4.4675 | best 0.8596 | wait 178/200\n",
            "Epoch 218 | train_loss 0.0924 | val_logloss 4.7376 | best 0.8596 | wait 179/200\n",
            "Epoch 219 | train_loss 0.0839 | val_logloss 4.7809 | best 0.8596 | wait 180/200\n",
            "Epoch 220 | train_loss 0.0858 | val_logloss 4.5372 | best 0.8596 | wait 181/200\n",
            "Epoch 221 | train_loss 0.0940 | val_logloss 3.6686 | best 0.8596 | wait 182/200\n",
            "Epoch 222 | train_loss 0.0924 | val_logloss 4.7173 | best 0.8596 | wait 183/200\n",
            "Epoch 223 | train_loss 0.0795 | val_logloss 4.8611 | best 0.8596 | wait 184/200\n",
            "Epoch 224 | train_loss 0.0907 | val_logloss 4.4593 | best 0.8596 | wait 185/200\n",
            "Epoch 225 | train_loss 0.0716 | val_logloss 4.8719 | best 0.8596 | wait 186/200\n",
            "Epoch 226 | train_loss 0.0686 | val_logloss 4.9316 | best 0.8596 | wait 187/200\n",
            "Epoch 227 | train_loss 0.0897 | val_logloss 4.6337 | best 0.8596 | wait 188/200\n",
            "Epoch 228 | train_loss 0.0798 | val_logloss 4.2703 | best 0.8596 | wait 189/200\n",
            "Epoch 229 | train_loss 0.0780 | val_logloss 4.7507 | best 0.8596 | wait 190/200\n",
            "Epoch 230 | train_loss 0.0911 | val_logloss 4.4950 | best 0.8596 | wait 191/200\n",
            "Epoch 231 | train_loss 0.0815 | val_logloss 4.7111 | best 0.8596 | wait 192/200\n",
            "Epoch 232 | train_loss 0.0741 | val_logloss 4.1216 | best 0.8596 | wait 193/200\n",
            "Epoch 233 | train_loss 0.0733 | val_logloss 4.9934 | best 0.8596 | wait 194/200\n",
            "Epoch 234 | train_loss 0.0838 | val_logloss 4.1454 | best 0.8596 | wait 195/200\n",
            "Epoch 235 | train_loss 0.0627 | val_logloss 4.9485 | best 0.8596 | wait 196/200\n",
            "Epoch 236 | train_loss 0.0825 | val_logloss 4.0243 | best 0.8596 | wait 197/200\n",
            "Epoch 237 | train_loss 0.0998 | val_logloss 4.1960 | best 0.8596 | wait 198/200\n",
            "Epoch 238 | train_loss 0.0886 | val_logloss 3.9275 | best 0.8596 | wait 199/200\n",
            "Epoch 239 | train_loss 0.0620 | val_logloss 4.9936 | best 0.8596 | wait 200/200\n",
            "Early stopping.\n",
            "Best val logloss: 0.8596\n"
          ]
        }
      ]
    },
    {
      "cell_type": "code",
      "source": [
        "ckpt = torch.load(best_path, map_location=device)\n",
        "model.load_state_dict(ckpt[\"model\"])\n",
        "\n",
        "ytest_true, ytest_pred, ytest_proba = eval_loader(test_loader)\n",
        "test_balacc = balanced_accuracy_score(ytest_true, ytest_pred)\n",
        "test_f1m    = f1_score(ytest_true, ytest_pred, average=\"macro\")\n",
        "test_rep    = classification_report(ytest_true, ytest_pred, digits=3, zero_division=0)\n",
        "test_cm     = confusion_matrix(ytest_true, ytest_pred, labels=np.arange(num_classes))\n",
        "test_ll     = log_loss(ytest_true, ytest_proba, labels=np.arange(num_classes))\n",
        "\n",
        "print(\"\\n=== TEST RESULTS (TCN) ===\")\n",
        "print(\"LogLoss:\", round(test_ll, 4))\n",
        "print(\"Balanced Acc:\", round(test_balacc, 4))\n",
        "print(\"Macro F1:\", round(test_f1m, 4))\n",
        "print(\"\\nClassification Report:\\n\", test_rep)"
      ],
      "metadata": {
        "colab": {
          "base_uri": "https://localhost:8080/"
        },
        "id": "o4UWKUXlDBgL",
        "outputId": "f21b7a7c-e834-4cb7-ba39-eae1c7f63458"
      },
      "execution_count": 16,
      "outputs": [
        {
          "output_type": "stream",
          "name": "stdout",
          "text": [
            "\n",
            "=== TEST RESULTS (TCN) ===\n",
            "LogLoss: 1.8158\n",
            "Balanced Acc: 0.4347\n",
            "Macro F1: 0.4106\n",
            "\n",
            "Classification Report:\n",
            "               precision    recall  f1-score   support\n",
            "\n",
            "           0      0.542     0.279     0.368       326\n",
            "           1      0.382     0.573     0.458       267\n",
            "           2      0.367     0.452     0.405       104\n",
            "\n",
            "    accuracy                          0.418       697\n",
            "   macro avg      0.430     0.435     0.411       697\n",
            "weighted avg      0.454     0.418     0.408       697\n",
            "\n"
          ]
        }
      ]
    },
    {
      "cell_type": "code",
      "source": [
        "with open(os.path.join(OUT_DIR, \"tcn_test_metrics.json\"), \"w\") as f:\n",
        "    json.dump({\"logloss\": float(test_ll), \"balanced_acc\": float(test_balacc), \"macro_f1\": float(test_f1m)}, f, indent=2)\n",
        "\n",
        "# Predictions\n",
        "pd.DataFrame({\"date\": dates_te.date, \"y_true\": ytest_true, \"y_pred\": ytest_pred}).to_csv(\n",
        "    os.path.join(OUT_DIR, \"tcn_test_predictions.csv\"), index=False)\n",
        "\n",
        "# Confusion matrix plot\n",
        "fig, ax = plt.subplots(figsize=(4,4), dpi=150)\n",
        "im = ax.imshow(test_cm, interpolation=\"nearest\")\n",
        "ax.set_title(\"Confusion Matrix — TCN (Test)\")\n",
        "ax.set_xticks(range(num_classes)); ax.set_yticks(range(num_classes))\n",
        "ax.set_xticklabels(range(num_classes)); ax.set_yticklabels(range(num_classes))\n",
        "ax.set_xlabel(\"Predicted\"); ax.set_ylabel(\"True\")\n",
        "for i in range(test_cm.shape[0]):\n",
        "    for j in range(test_cm.shape[1]):\n",
        "        ax.text(j, i, test_cm[i, j], ha=\"center\", va=\"center\")\n",
        "fig.colorbar(im, ax=ax, fraction=0.046, pad=0.04)\n",
        "plt.tight_layout()\n",
        "plt.savefig(os.path.join(OUT_DIR, \"tcn_confusion_matrix.png\"))\n",
        "plt.show()\n",
        "\n",
        "print(f\"\\n✅ Saved in {OUT_DIR}:\")\n",
        "print(\" - tcn_best.pt (weights)\")\n",
        "print(\" - tcn_scaler.json (means/scales + feature names + seq_len)\")\n",
        "print(\" - tcn_test_metrics.json\")\n",
        "print(\" - tcn_test_predictions.csv\")\n",
        "print(\" - tcn_confusion_matrix.png\")"
      ],
      "metadata": {
        "colab": {
          "base_uri": "https://localhost:8080/",
          "height": 668
        },
        "id": "aLRQvuMwKpTt",
        "outputId": "7fab88c5-16c2-4918-e191-2fe1cd866989"
      },
      "execution_count": 17,
      "outputs": [
        {
          "output_type": "display_data",
          "data": {
            "text/plain": [
              "<Figure size 600x600 with 2 Axes>"
            ],
            "image/png": "[encoded data removed]"
          },
          "metadata": {}
        },
        {
          "output_type": "stream",
          "name": "stdout",
          "text": [
            "\n",
            "✅ Saved in /content/drive/MyDrive/Regime_pred/Models/Deep_TCN:\n",
            " - tcn_best.pt (weights)\n",
            " - tcn_scaler.json (means/scales + feature names + seq_len)\n",
            " - tcn_test_metrics.json\n",
            " - tcn_test_predictions.csv\n",
            " - tcn_confusion_matrix.png\n"
          ]
        }
      ]
    },
    {
      "cell_type": "code",
      "source": [],
      "metadata": {
        "id": "ZLrDFZ2zKxmA"
      },
      "execution_count": 17,
      "outputs": []
    }
  ]
}